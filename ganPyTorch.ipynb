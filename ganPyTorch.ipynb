{
 "cells": [
  {
   "cell_type": "markdown",
   "id": "2d6e4c32",
   "metadata": {},
   "source": [
    "# 0x05. Generative Adversarial Networks\n",
    "\n",
    "## Learning Objectives:\n",
    "\n",
    "* What is a generator?\n",
    "* What is a discriminator?\n",
    "* What is the minimax loss? modified minimax loss? wasserstein loss?\n",
    "* How do you train a GAN?\n",
    "* What are the use cases for GANs?\n",
    "* What are the shortcoming of GANs?\n",
    "* What is Energy based learning?\n",
    "\n",
    "    \n",
    "\n",
    "## Overview\n",
    "\n",
    "### GANs\n",
    "\n",
    "GANs are a type of neural network used for unsupervised machine learning. They are comprised of two adversarial modules: generator and cost networks. These modules compete with each other such that the cost network tries to filter fake examples while the generator tries to trick this filter by creating realistic examples x^\\vect{\\hat{x}}x^. Through this competition, the model learns a generator that creates realistic data. They can be used in tasks such as future predictions or for generating images after being trained on a particular dataset.\n",
    "\n",
    "\n",
    "### Pytorch\n",
    "\n",
    "You will notice that we are using PyTorch for this project. PyTorch is another open source deep learning library. It was initially based on the Torch but is now primarily developed by Facebook's AI Research lab. Facebook also updated and merged the Caffe deep learning framework into PyTorch also. \n",
    "\n",
    "It is an optimized library, based on the tensor representations, for deep learning using GPUs and CPUs.\n",
    "\n",
    "PyTorch is very similar to TensorFlow. Pytorch and Tensorflow are by far two of the most popular frameworks for Deep Learning (https://towardsdatascience.com/pytorch-vs-tensorflow-in-2020-fe237862fae1). It has gained significant popularity in recent years due to its; ease of use, rapid prototyping, and speed.\n",
    "\n",
    "The two frameworks had a lot of major differences in terms of design, paradigm, syntax etc till some time back, but they have since evolved a lot, both have picked up good features from each other and are no longer that different (https://towardsdatascience.com/pytorch-vs-tensorflow-in-2020-fe237862fae1).\n",
    "\n",
    "A number of deep learning software has been built using PyTorch; its used internally at Facebook (Meta), Tesla's Autopilot uses PyTorch, Uber's Pyro tool, and others.\n",
    "\n",
    "It is currently as popular as TensorFlow in academic papers being published, and its gaining popularity in Google searches as well:\n",
    "![PyTorch started gaining on Tensorflow in 2019](https://qph.fs.quoracdn.net/main-qimg-aab6d9ab110d815b7365ee153acf625a)\n",
    "*RISElab is a AI lab at UC Berkeley*\n",
    "\n",
    "![Google Search Trends of Tensorflow vs PyTorch](https://miro.medium.com/max/744/1*IsaBkifkc5P7ihRA8IKQ8Q.png)\n",
    "\n",
    "![Google Search Trends of Tensorflow vs PyTorch 2](https://miro.medium.com/max/2000/1*e7fGJaWE_P6x500Obq8_Pw.png)\n",
    "\n",
    "![Google Search Trends of Tensorflow vs PyTorch 3](https://dezyre.gumlet.net/images/blog/PyTorch+vs+TensorFlow+2021-A+Head-to-Head+Comparison/PyTorch+vs+TensorFlow.png?w=1100&dpr=1.0)\n",
    "\n",
    "## Requirements\n",
    "### General\n",
    "\n",
    "    Allowed editors: vi, vim, emacs\n",
    "    All your files will be interpreted/compiled on Ubuntu 16.04 LTS using python3 (version 3.5)\n",
    "    Your files will be executed with numpy (version 1.15) and tensorflow (version 1.12)\n",
    "    All your files should end with a new line\n",
    "    The first line of all your files should be exactly #!/usr/bin/env python3\n",
    "    A README.md file, at the root of the folder of the project, is mandatory\n",
    "    Your code should use the pycodestyle style (version 2.4)\n",
    "    All your modules should have documentation (python3 -c 'print(__import__(\"my_module\").__doc__)')\n",
    "    All your classes should have documentation (python3 -c 'print(__import__(\"my_module\").MyClass.__doc__)')\n",
    "    All your functions (inside and outside a class) should have documentation (python3 -c 'print(__import__(\"my_module\").my_function.__doc__)' and python3 -c 'print(__import__(\"my_module\").MyClass.my_function.__doc__)')\n",
    "    Unless otherwise noted, you are not allowed to import any module except import tensorflow as tf and import numpy as np, as needed\n",
    "    All your files must be executable\n",
    "\n"
   ]
  },
  {
   "cell_type": "code",
   "execution_count": 1,
   "id": "742893ef",
   "metadata": {},
   "outputs": [
    {
     "ename": "ModuleNotFoundError",
     "evalue": "No module named 'torch'",
     "output_type": "error",
     "traceback": [
      "\u001b[0;31m---------------------------------------------------------------------------\u001b[0m",
      "\u001b[0;31mModuleNotFoundError\u001b[0m                       Traceback (most recent call last)",
      "\u001b[0;32m/tmp/ipykernel_89915/1236487171.py\u001b[0m in \u001b[0;36m<module>\u001b[0;34m\u001b[0m\n\u001b[1;32m      1\u001b[0m \u001b[0mget_ipython\u001b[0m\u001b[0;34m(\u001b[0m\u001b[0;34m)\u001b[0m\u001b[0;34m.\u001b[0m\u001b[0mrun_line_magic\u001b[0m\u001b[0;34m(\u001b[0m\u001b[0;34m'matplotlib'\u001b[0m\u001b[0;34m,\u001b[0m \u001b[0;34m'inline'\u001b[0m\u001b[0;34m)\u001b[0m\u001b[0;34m\u001b[0m\u001b[0;34m\u001b[0m\u001b[0m\n\u001b[0;32m----> 2\u001b[0;31m \u001b[0;32mimport\u001b[0m \u001b[0mtorch\u001b[0m\u001b[0;34m\u001b[0m\u001b[0;34m\u001b[0m\u001b[0m\n\u001b[0m\u001b[1;32m      3\u001b[0m \u001b[0;32mfrom\u001b[0m \u001b[0mtorch\u001b[0m \u001b[0;32mimport\u001b[0m \u001b[0mnn\u001b[0m\u001b[0;34m\u001b[0m\u001b[0;34m\u001b[0m\u001b[0m\n\u001b[1;32m      4\u001b[0m \u001b[0;32mfrom\u001b[0m \u001b[0md2l\u001b[0m \u001b[0;32mimport\u001b[0m \u001b[0mtorch\u001b[0m \u001b[0;32mas\u001b[0m \u001b[0md2l\u001b[0m\u001b[0;34m\u001b[0m\u001b[0;34m\u001b[0m\u001b[0m\n\u001b[1;32m      5\u001b[0m \u001b[0;34m\u001b[0m\u001b[0m\n",
      "\u001b[0;31mModuleNotFoundError\u001b[0m: No module named 'torch'"
     ]
    }
   ],
   "source": [
    "%matplotlib inline\n",
    "import torch\n",
    "from torch import nn\n",
    "from d2l import torch as d2l\n",
    "\n"
   ]
  },
  {
   "cell_type": "markdown",
   "id": "be33f4af",
   "metadata": {},
   "source": [
    "## Resources\n",
    "### Read or watch:\n",
    "[NYU Spring 2020 Week 9 Lecture on GANs](https://www.youtube.com/watch?v=Pgct8PKV7iw&t=5433s)\n",
    "\n",
    "[Facebook Research Article on PyTorch](https://research.fb.com/publications/pytorch-an-imperative-style-high-performance-deep-learning-library/)\n",
    "\n",
    "[Dive into Deep Learning: Chapter 17. GANs](https://d2l.ai/chapter_generative-adversarial-networks/gan.html)\n",
    "\n",
    "* A Friendly Introduction to Generative Adversarial Networks (GANs)\n",
    "* Google’s GAN course\n",
    "* MIT 6.S191: Deep Generative Modeling - GANs\n",
    "* Understanding Generative Adversarial Networks\n"
   ]
  },
  {
   "cell_type": "markdown",
   "id": "141a8c23",
   "metadata": {},
   "source": [
    "## References\n",
    "\n",
    "* NYU\n"
   ]
  }
 ],
 "metadata": {
  "kernelspec": {
   "display_name": "Python 3 (ipykernel)",
   "language": "python",
   "name": "python3"
  },
  "language_info": {
   "codemirror_mode": {
    "name": "ipython",
    "version": 3
   },
   "file_extension": ".py",
   "mimetype": "text/x-python",
   "name": "python",
   "nbconvert_exporter": "python",
   "pygments_lexer": "ipython3",
   "version": "3.8.10"
  }
 },
 "nbformat": 4,
 "nbformat_minor": 5
}
